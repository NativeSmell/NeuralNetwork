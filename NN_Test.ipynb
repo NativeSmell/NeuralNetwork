{
 "cells": [
  {
   "cell_type": "code",
   "execution_count": 1,
   "metadata": {},
   "outputs": [],
   "source": [
    "from mnist import MNIST\n",
    "import pickle\n",
    "\n",
    "import numpy as np\n",
    "\n",
    "import json\n",
    "\n",
    "import matplotlib.pyplot as plt\n",
    "\n",
    "from src.NeuralNetwork import *\n",
    "import src.DataHandler as dhm\n",
    "import src.Analysis as analys\n",
    "%matplotlib notebook\n",
    "\n",
    "dataSet = 'mnist'\n",
    "\n",
    "splitRate = 0.7\n"
   ]
  },
  {
   "cell_type": "code",
   "execution_count": 2,
   "metadata": {},
   "outputs": [
    {
     "data": {
      "image/png": "[encoded data removed]",
      "text/plain": [
       "<matplotlib.figure.Figure at 0x1117bed68>"
      ]
     },
     "metadata": {},
     "output_type": "display_data"
    },
    {
     "name": "stdout",
     "output_type": "stream",
     "text": [
      "Normalization...\n"
     ]
    },
    {
     "name": "stderr",
     "output_type": "stream",
     "text": [
      "100% (10000 of 10000) |###################| Elapsed Time: 0:00:00 Time: 0:00:00\n"
     ]
    },
    {
     "name": "stdout",
     "output_type": "stream",
     "text": [
      "Size of learning data set: 7000\n",
      "Size of validation data set: 3000\n",
      "Size of testing data set: 10000\n"
     ]
    }
   ],
   "source": [
    "dh = dhm.DataHandler()\n",
    "\n",
    "viewImageIndex = 10\n",
    "\n",
    "images_train = []\n",
    "labels_train = []\n",
    "images_test = []\n",
    "labels_test = []\n",
    "\n",
    "if dataSet == 'mnist':\n",
    "    \n",
    "    path = 'data/mnist'\n",
    "    \n",
    "    mndata = MNIST(path)\n",
    "\n",
    "    images_train, labels_train = mndata.load_training()\n",
    "    images_test, labels_test = mndata.load_testing()\n",
    "\n",
    "    pixels = np.array(images_test[viewImageIndex]).reshape(28,28)\n",
    "    \n",
    "    \n",
    "if dataSet == 'cifar': \n",
    "    \n",
    "    path = 'data/cifar/'\n",
    "    \n",
    "    files = ['data_batch_1' , 'data_batch_2', 'data_batch_3', 'data_batch_4', 'data_batch_5']\n",
    "    \n",
    "    for file in files:\n",
    "    \n",
    "        f = open(path + file, 'rb')\n",
    "        tupled_data= pickle.load(f, encoding='bytes')\n",
    "    \n",
    "        f.close()\n",
    "        \n",
    "        images_train += tupled_data[b'data'].tolist()\n",
    "        labels_train += tupled_data[b'labels']\n",
    "        \n",
    "            \n",
    "    f = open(path + 'test_batch', 'rb')\n",
    "    tupled_data= pickle.load(f, encoding='bytes')\n",
    "\n",
    "    f.close()\n",
    "\n",
    "    images_test = tupled_data[b'data'].tolist()\n",
    "    labels_test = tupled_data[b'labels']    \n",
    "    \n",
    "    images_train = [dh.toYCbCr(pixels) for pixels in images_train]\n",
    "    images_test = [dh.toYCbCr(pixels) for pixels in images_test]\n",
    "    \n",
    "    #pixels = np.transpose(np.reshape(tupled_data[b'data'][viewImageIndex],(3, 32,32)), (1,2,0))\n",
    "    pixels = images_test[viewImageIndex]\n",
    "    \n",
    "    #pixels = dh.toYCbCr(pixels)\n",
    "    \n",
    "    pixels = np.array(pixels).reshape(32,32)    \n",
    "    \n",
    "label = labels_test[viewImageIndex]\n",
    "\n",
    "plt.figure()\n",
    "plt.imshow(pixels, cmap = 'gray')\n",
    "plt.title('This is ' + str(label))\n",
    "plt.xticks([])\n",
    "plt.yticks([])\n",
    "plt.show()\n",
    "\n",
    "images_train = images_train[:10000]\n",
    "labels_train = labels_train[:10000]\n",
    "\n",
    "images_train = dh.maxNorm(images_train,_max = 255)\n",
    "\n",
    "images_train, images_val = dh.split(images_train, rate = splitRate)\n",
    "labels_train, labels_val = dh.split(labels_train, rate = splitRate)\n",
    "    \n",
    "print(\"Size of learning data set: \" + str(len(images_train)))\n",
    "print(\"Size of validation data set: \" + str(len(images_val)))\n",
    "print(\"Size of testing data set: \" + str(len(images_test)))"
   ]
  },
  {
   "cell_type": "code",
   "execution_count": null,
   "metadata": {},
   "outputs": [],
   "source": [
    "input_dim = len(images_train[0])\n",
    "output_dim = int(10)\n",
    "\n",
    "\n",
    "model = Sequental(input_dim)\n",
    "model.add(Dense(64, activation = 'relu', dropoutProp = 0.))\n",
    "model.add(Dense(32, activation = 'linear', dropoutProp = 0.))\n",
    "model.add(Dense(32, activation = 'relu', dropoutProp = 0.))\n",
    "model.add(Dense(16, activation = 'linear', dropoutProp = 0.))\n",
    "model.add(Dense(output_dim, activation = 'sigmoid', dropoutProp = 0.))"
   ]
  },
  {
   "cell_type": "code",
   "execution_count": null,
   "metadata": {},
   "outputs": [
    {
     "name": "stdout",
     "output_type": "stream",
     "text": [
      "Start Learning...\n"
     ]
    },
    {
     "name": "stderr",
     "output_type": "stream",
     "text": [
      "100% (70.0 of 70.0) |#####################| Elapsed Time: 0:00:29 Time: 0:00:29\n"
     ]
    },
    {
     "name": "stdout",
     "output_type": "stream",
     "text": [
      "Evaluating...\n"
     ]
    },
    {
     "name": "stderr",
     "output_type": "stream",
     "text": [
      " 98% (6912 of 7000) |#################### | Elapsed Time: 0:00:05 ETA:  0:00:00"
     ]
    },
    {
     "name": "stdout",
     "output_type": "stream",
     "text": [
      "Evaluating...\n"
     ]
    },
    {
     "name": "stderr",
     "output_type": "stream",
     "text": [
      " 97% (2925 of 3000) |#################### | Elapsed Time: 0:00:02 ETA:  0:00:00"
     ]
    },
    {
     "name": "stdout",
     "output_type": "stream",
     "text": [
      "Epoch: 1/100 - loss(MSE): 0.0757341326498 - accuracy: 0.3434285714285714 - val_loss(MSE): 0.0760670025524 - val_accuracy: 0.3446666666666667\n"
     ]
    },
    {
     "name": "stderr",
     "output_type": "stream",
     "text": [
      "100% (70.0 of 70.0) |#####################| Elapsed Time: 0:00:31 Time: 0:00:31\n"
     ]
    },
    {
     "name": "stdout",
     "output_type": "stream",
     "text": [
      "Evaluating...\n"
     ]
    },
    {
     "name": "stderr",
     "output_type": "stream",
     "text": [
      " 99% (6994 of 7000) |#################### | Elapsed Time: 0:00:05 ETA:  0:00:00"
     ]
    },
    {
     "name": "stdout",
     "output_type": "stream",
     "text": [
      "Evaluating...\n"
     ]
    },
    {
     "name": "stderr",
     "output_type": "stream",
     "text": [
      " 98% (2963 of 3000) |#################### | Elapsed Time: 0:00:03 ETA:  0:00:00"
     ]
    },
    {
     "name": "stdout",
     "output_type": "stream",
     "text": [
      "Epoch: 2/100 - loss(MSE): 0.0653663894001 - accuracy: 0.4695714285714286 - val_loss(MSE): 0.066059802769 - val_accuracy: 0.472\n"
     ]
    },
    {
     "name": "stderr",
     "output_type": "stream",
     "text": [
      " 32% (23 of 70.0) |#######                | Elapsed Time: 0:00:10 ETA:  0:00:23"
     ]
    }
   ],
   "source": [
    "history = model.fit(images_train, labels_train, images_val, labels_val,\n",
    "          numOfEpochs = 100, earlyStopAcc = 0.001,\n",
    "          lossMetric = 'MSE', optimizerType = 'backProp',\n",
    "          batchSize = 100, learningRate = 0.1,\n",
    "          momentum = 0, patience = 3)"
   ]
  },
  {
   "cell_type": "code",
   "execution_count": null,
   "metadata": {},
   "outputs": [],
   "source": [
    "an = analys.Analysis()\n",
    "\n",
    "an.buildPlot([history['loss'] , history['val_loss'] ], ['r','b'], ['loss','val_loss'],\n",
    "             dependence = None, showAt = 0, showFor = 0, savePath = None,\n",
    "                  show = True, title = 'loss', xlabel = 'Epoch', ylabel = 'loss',grid = True)\n",
    "\n",
    "an.buildPlot([history['accuracy'] , history['val_accuracy'] ], ['r','b'], ['accuracy','val_accuracy'],\n",
    "             dependence = None, showAt = 0, showFor = 0, savePath = None,\n",
    "                  show = True, title = 'accuracy', xlabel = 'Epoch', ylabel = 'loss',grid = True)"
   ]
  },
  {
   "cell_type": "code",
   "execution_count": null,
   "metadata": {},
   "outputs": [],
   "source": [
    "images_test = dh.maxNorm(images_test,_max = 255)"
   ]
  },
  {
   "cell_type": "code",
   "execution_count": null,
   "metadata": {},
   "outputs": [],
   "source": [
    "acc, loss = model.evaluate(images_test,labels_test)\n",
    "\n",
    "print('test_accuracy: ' + str(acc) + ' - test_loss: ' + str(loss))"
   ]
  },
  {
   "cell_type": "code",
   "execution_count": null,
   "metadata": {},
   "outputs": [],
   "source": [
    "predicted_List = []\n",
    "\n",
    "for image in images_test:\n",
    "    predicted_List.append(np.argmax(model.predict(image)))\n",
    "    \n",
    "addPlot = False\n",
    "show = False\n",
    "\n",
    "for i in range(0,10):    \n",
    "    \n",
    "    predict = []\n",
    "    true = []\n",
    "    \n",
    "    if i == 9:\n",
    "        show = True\n",
    "    \n",
    "    for j in range(len(labels_test)):\n",
    "       \n",
    "        if labels_test[j] == i:\n",
    "            true.append(1)\n",
    "        else:\n",
    "            true.append(0)\n",
    "            \n",
    "        if predicted_List[j] == i :\n",
    "            predict.append(1)\n",
    "        else:\n",
    "            predict.append(0)\n",
    "\n",
    "    fpr,tpr, roc_auc = an.rocCurve(predict,true)\n",
    "    \n",
    "    an.buildPlot([[fpr,tpr],[[0,1],[0,1]]], \n",
    "             ['-','g--'],\n",
    "             [str(i) + ' class (area = {})'.format(roc_auc), None],\n",
    "             dependence = [True,True], show = show,\n",
    "             title = 'ROC-curve ',\n",
    "             xlabel = 'False Positive Rate',\n",
    "             ylabel = 'True Positive Rate',\n",
    "             savePath = None,\n",
    "             showAt = 0, showFor = 0, addPlot = addPlot)\n",
    "    \n",
    "    addPlot = True"
   ]
  },
  {
   "cell_type": "code",
   "execution_count": null,
   "metadata": {},
   "outputs": [],
   "source": []
  }
 ],
 "metadata": {
  "kernelspec": {
   "display_name": "Python 3",
   "language": "python",
   "name": "python3"
  },
  "language_info": {
   "codemirror_mode": {
    "name": "ipython",
    "version": 3
   },
   "file_extension": ".py",
   "mimetype": "text/x-python",
   "name": "python",
   "nbconvert_exporter": "python",
   "pygments_lexer": "ipython3",
   "version": "3.6.1"
  }
 },
 "nbformat": 4,
 "nbformat_minor": 2
}
